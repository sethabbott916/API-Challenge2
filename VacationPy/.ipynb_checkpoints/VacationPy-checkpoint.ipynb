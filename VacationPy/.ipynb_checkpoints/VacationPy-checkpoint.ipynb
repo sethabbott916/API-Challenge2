{
 "cells": [
  {
   "cell_type": "markdown",
   "metadata": {},
   "source": [
    "# VacationPy\n",
    "----\n",
    "\n",
    "#### Note\n",
    "* Instructions have been included for each segment. You do not have to follow them exactly, but they are included to help you think through the steps."
   ]
  },
  {
   "cell_type": "code",
   "execution_count": 1,
   "metadata": {},
   "outputs": [],
   "source": [
    "# Dependencies and Setup\n",
    "import matplotlib.pyplot as plt\n",
    "import pandas as pd\n",
    "import numpy as np\n",
    "import requests\n",
    "import gmaps\n",
    "import os\n",
    "import requests\n",
    "import json\n",
    "from pprint import pprint\n",
    "\n",
    "\n",
    "\n",
    "from scipy.stats import linregress\n",
    "from matplotlib import pyplot as plt\n",
    "\n",
    "# Import API key\n",
    "from api_keys import g_key"
   ]
  },
  {
   "cell_type": "markdown",
   "metadata": {},
   "source": [
    "### Store Part I results into DataFrame\n",
    "* Load the csv exported in Part I to a DataFrame"
   ]
  },
  {
   "cell_type": "code",
   "execution_count": 2,
   "metadata": {},
   "outputs": [],
   "source": [
    "data_file = \"../WeatherPy/output_data/cities.csv\"\n",
    "citydf = pd.read_csv(data_file)"
   ]
  },
  {
   "cell_type": "markdown",
   "metadata": {},
   "source": [
    "### Humidity Heatmap\n",
    "* Configure gmaps.\n",
    "* Use the Lat and Lng as locations and Humidity as the weight.\n",
    "* Add Heatmap layer to map."
   ]
  },
  {
   "cell_type": "code",
   "execution_count": 3,
   "metadata": {},
   "outputs": [],
   "source": [
    "gmaps.configure(api_key=g_key)\n",
    "\n",
    "\n",
    "locations = citydf[[\"Lat\", \"Lng\"]].astype(float)\n",
    "\n",
    "\n",
    "humid = citydf[\"Humidity\"].astype(float)"
   ]
  },
  {
   "cell_type": "code",
   "execution_count": 4,
   "metadata": {},
   "outputs": [
    {
     "data": {
      "application/vnd.jupyter.widget-view+json": {
       "model_id": "47f2de4a61c44dbf80ff04854fc65a7b",
       "version_major": 2,
       "version_minor": 0
      },
      "text/plain": [
       "Figure(layout=FigureLayout(height='420px'))"
      ]
     },
     "metadata": {},
     "output_type": "display_data"
    }
   ],
   "source": [
    "fig = gmaps.figure()\n",
    "\n",
    "humid_layer = gmaps.heatmap_layer(locations, weights=humid, \n",
    "                                 dissipating=False, max_intensity=100,\n",
    "                                 point_radius = 1)\n",
    "\n",
    "fig.add_layer(humid_layer)\n",
    "\n",
    "fig"
   ]
  },
  {
   "cell_type": "markdown",
   "metadata": {},
   "source": [
    "### Create new DataFrame fitting weather criteria\n",
    "* Narrow down the cities to fit weather conditions.\n",
    "* Drop any rows will null values."
   ]
  },
  {
   "cell_type": "code",
   "execution_count": 5,
   "metadata": {},
   "outputs": [
    {
     "data": {
      "text/html": [
       "<div>\n",
       "<style scoped>\n",
       "    .dataframe tbody tr th:only-of-type {\n",
       "        vertical-align: middle;\n",
       "    }\n",
       "\n",
       "    .dataframe tbody tr th {\n",
       "        vertical-align: top;\n",
       "    }\n",
       "\n",
       "    .dataframe thead th {\n",
       "        text-align: right;\n",
       "    }\n",
       "</style>\n",
       "<table border=\"1\" class=\"dataframe\">\n",
       "  <thead>\n",
       "    <tr style=\"text-align: right;\">\n",
       "      <th></th>\n",
       "      <th>City</th>\n",
       "      <th>Lat</th>\n",
       "      <th>Lng</th>\n",
       "      <th>Max Temp</th>\n",
       "      <th>Humidity</th>\n",
       "      <th>Cloudiness</th>\n",
       "      <th>Wind Speed</th>\n",
       "      <th>Country</th>\n",
       "      <th>Date</th>\n",
       "    </tr>\n",
       "  </thead>\n",
       "  <tbody>\n",
       "    <tr>\n",
       "      <th>51</th>\n",
       "      <td>Santa Fe</td>\n",
       "      <td>-31.63</td>\n",
       "      <td>-60.70</td>\n",
       "      <td>75.61</td>\n",
       "      <td>46</td>\n",
       "      <td>0</td>\n",
       "      <td>9.60</td>\n",
       "      <td>AR</td>\n",
       "      <td>1589649758</td>\n",
       "    </tr>\n",
       "    <tr>\n",
       "      <th>75</th>\n",
       "      <td>Al Bardīyah</td>\n",
       "      <td>31.76</td>\n",
       "      <td>25.09</td>\n",
       "      <td>75.96</td>\n",
       "      <td>54</td>\n",
       "      <td>0</td>\n",
       "      <td>8.16</td>\n",
       "      <td>LY</td>\n",
       "      <td>1589649764</td>\n",
       "    </tr>\n",
       "    <tr>\n",
       "      <th>101</th>\n",
       "      <td>Santa Maria</td>\n",
       "      <td>-29.68</td>\n",
       "      <td>-53.81</td>\n",
       "      <td>73.40</td>\n",
       "      <td>35</td>\n",
       "      <td>0</td>\n",
       "      <td>8.05</td>\n",
       "      <td>BR</td>\n",
       "      <td>1589649770</td>\n",
       "    </tr>\n",
       "    <tr>\n",
       "      <th>181</th>\n",
       "      <td>Camabatela</td>\n",
       "      <td>-8.19</td>\n",
       "      <td>15.38</td>\n",
       "      <td>70.32</td>\n",
       "      <td>61</td>\n",
       "      <td>0</td>\n",
       "      <td>4.21</td>\n",
       "      <td>AO</td>\n",
       "      <td>1589649790</td>\n",
       "    </tr>\n",
       "    <tr>\n",
       "      <th>291</th>\n",
       "      <td>Antalaha</td>\n",
       "      <td>-14.90</td>\n",
       "      <td>50.28</td>\n",
       "      <td>75.47</td>\n",
       "      <td>84</td>\n",
       "      <td>0</td>\n",
       "      <td>6.64</td>\n",
       "      <td>MG</td>\n",
       "      <td>1589649816</td>\n",
       "    </tr>\n",
       "    <tr>\n",
       "      <th>440</th>\n",
       "      <td>Alizai</td>\n",
       "      <td>33.54</td>\n",
       "      <td>70.35</td>\n",
       "      <td>74.17</td>\n",
       "      <td>31</td>\n",
       "      <td>0</td>\n",
       "      <td>4.59</td>\n",
       "      <td>PK</td>\n",
       "      <td>1589649851</td>\n",
       "    </tr>\n",
       "    <tr>\n",
       "      <th>541</th>\n",
       "      <td>Yima</td>\n",
       "      <td>34.74</td>\n",
       "      <td>111.88</td>\n",
       "      <td>78.01</td>\n",
       "      <td>99</td>\n",
       "      <td>0</td>\n",
       "      <td>3.13</td>\n",
       "      <td>CN</td>\n",
       "      <td>1589649875</td>\n",
       "    </tr>\n",
       "  </tbody>\n",
       "</table>\n",
       "</div>"
      ],
      "text/plain": [
       "            City    Lat     Lng  Max Temp  Humidity  Cloudiness  Wind Speed  \\\n",
       "51      Santa Fe -31.63  -60.70     75.61        46           0        9.60   \n",
       "75   Al Bardīyah  31.76   25.09     75.96        54           0        8.16   \n",
       "101  Santa Maria -29.68  -53.81     73.40        35           0        8.05   \n",
       "181   Camabatela  -8.19   15.38     70.32        61           0        4.21   \n",
       "291     Antalaha -14.90   50.28     75.47        84           0        6.64   \n",
       "440       Alizai  33.54   70.35     74.17        31           0        4.59   \n",
       "541         Yima  34.74  111.88     78.01        99           0        3.13   \n",
       "\n",
       "    Country        Date  \n",
       "51       AR  1589649758  \n",
       "75       LY  1589649764  \n",
       "101      BR  1589649770  \n",
       "181      AO  1589649790  \n",
       "291      MG  1589649816  \n",
       "440      PK  1589649851  \n",
       "541      CN  1589649875  "
      ]
     },
     "execution_count": 5,
     "metadata": {},
     "output_type": "execute_result"
    }
   ],
   "source": [
    "citydf = pd.DataFrame(citydf.loc[citydf[\"Max Temp\"] > 70, :])\n",
    "citydf = pd.DataFrame(citydf.loc[citydf[\"Max Temp\"] < 80, :])\n",
    "citydf = pd.DataFrame(citydf.loc[citydf[\"Wind Speed\"] < 10, :])\n",
    "citydf = pd.DataFrame(citydf.loc[citydf[\"Cloudiness\"] == 0, :])\n",
    "\n",
    "\n",
    "\n",
    "citydf"
   ]
  },
  {
   "cell_type": "markdown",
   "metadata": {},
   "source": [
    "### Hotel Map\n",
    "* Store into variable named `hotel_df`.\n",
    "* Add a \"Hotel Name\" column to the DataFrame.\n",
    "* Set parameters to search for hotels with 5000 meters.\n",
    "* Hit the Google Places API for each city's coordinates.\n",
    "* Store the first Hotel result into the DataFrame.\n",
    "* Plot markers on top of the heatmap."
   ]
  },
  {
   "cell_type": "code",
   "execution_count": 6,
   "metadata": {},
   "outputs": [],
   "source": [
    "#hotel_df = pd.DataFrame(citydf.loc[citydf['City','Lat','Lng']])\n",
    "hotel_df = citydf\n",
    "hotel_df[\"Hotel Name\"] = \"\"\n",
    "\n",
    "\n",
    "params = {\n",
    "    \"radius\": 5000,\n",
    "    \"type\": \"lodging\",\n",
    "    \"key\": g_key,\n",
    "}\n",
    "\n",
    "base_url = \"https://maps.googleapis.com/maps/api/place/nearbysearch/json\"\n",
    "\n",
    "\n",
    "for index, row in hotel_df.iterrows():\n",
    "    lat = row['Lat']\n",
    "    lng = row['Lng']\n",
    "    params['location'] = f\"{lat},{lng}\"\n",
    "\n",
    "    response = requests.get(base_url, params=params).json()\n",
    "    \n",
    "    results = response['results']\n",
    "    \n",
    "    hotel_df.loc[index, \"Hotel Name\"] = response['results'][0][\"name\"]\n",
    "    \n"
   ]
  },
  {
   "cell_type": "code",
   "execution_count": 7,
   "metadata": {},
   "outputs": [
    {
     "data": {
      "text/html": [
       "<div>\n",
       "<style scoped>\n",
       "    .dataframe tbody tr th:only-of-type {\n",
       "        vertical-align: middle;\n",
       "    }\n",
       "\n",
       "    .dataframe tbody tr th {\n",
       "        vertical-align: top;\n",
       "    }\n",
       "\n",
       "    .dataframe thead th {\n",
       "        text-align: right;\n",
       "    }\n",
       "</style>\n",
       "<table border=\"1\" class=\"dataframe\">\n",
       "  <thead>\n",
       "    <tr style=\"text-align: right;\">\n",
       "      <th></th>\n",
       "      <th>City</th>\n",
       "      <th>Lat</th>\n",
       "      <th>Lng</th>\n",
       "      <th>Max Temp</th>\n",
       "      <th>Humidity</th>\n",
       "      <th>Cloudiness</th>\n",
       "      <th>Wind Speed</th>\n",
       "      <th>Country</th>\n",
       "      <th>Date</th>\n",
       "      <th>Hotel Name</th>\n",
       "    </tr>\n",
       "  </thead>\n",
       "  <tbody>\n",
       "    <tr>\n",
       "      <th>51</th>\n",
       "      <td>Santa Fe</td>\n",
       "      <td>-31.63</td>\n",
       "      <td>-60.70</td>\n",
       "      <td>75.61</td>\n",
       "      <td>46</td>\n",
       "      <td>0</td>\n",
       "      <td>9.60</td>\n",
       "      <td>AR</td>\n",
       "      <td>1589649758</td>\n",
       "      <td>Conquistador Hotel</td>\n",
       "    </tr>\n",
       "    <tr>\n",
       "      <th>75</th>\n",
       "      <td>Al Bardīyah</td>\n",
       "      <td>31.76</td>\n",
       "      <td>25.09</td>\n",
       "      <td>75.96</td>\n",
       "      <td>54</td>\n",
       "      <td>0</td>\n",
       "      <td>8.16</td>\n",
       "      <td>LY</td>\n",
       "      <td>1589649764</td>\n",
       "      <td>بورتو بردية</td>\n",
       "    </tr>\n",
       "    <tr>\n",
       "      <th>101</th>\n",
       "      <td>Santa Maria</td>\n",
       "      <td>-29.68</td>\n",
       "      <td>-53.81</td>\n",
       "      <td>73.40</td>\n",
       "      <td>35</td>\n",
       "      <td>0</td>\n",
       "      <td>8.05</td>\n",
       "      <td>BR</td>\n",
       "      <td>1589649770</td>\n",
       "      <td>Hotel Morotin</td>\n",
       "    </tr>\n",
       "    <tr>\n",
       "      <th>181</th>\n",
       "      <td>Camabatela</td>\n",
       "      <td>-8.19</td>\n",
       "      <td>15.38</td>\n",
       "      <td>70.32</td>\n",
       "      <td>61</td>\n",
       "      <td>0</td>\n",
       "      <td>4.21</td>\n",
       "      <td>AO</td>\n",
       "      <td>1589649790</td>\n",
       "      <td>Pensão E Restaurantes</td>\n",
       "    </tr>\n",
       "    <tr>\n",
       "      <th>291</th>\n",
       "      <td>Antalaha</td>\n",
       "      <td>-14.90</td>\n",
       "      <td>50.28</td>\n",
       "      <td>75.47</td>\n",
       "      <td>84</td>\n",
       "      <td>0</td>\n",
       "      <td>6.64</td>\n",
       "      <td>MG</td>\n",
       "      <td>1589649816</td>\n",
       "      <td>Hotel Vitasoa</td>\n",
       "    </tr>\n",
       "  </tbody>\n",
       "</table>\n",
       "</div>"
      ],
      "text/plain": [
       "            City    Lat    Lng  Max Temp  Humidity  Cloudiness  Wind Speed  \\\n",
       "51      Santa Fe -31.63 -60.70     75.61        46           0        9.60   \n",
       "75   Al Bardīyah  31.76  25.09     75.96        54           0        8.16   \n",
       "101  Santa Maria -29.68 -53.81     73.40        35           0        8.05   \n",
       "181   Camabatela  -8.19  15.38     70.32        61           0        4.21   \n",
       "291     Antalaha -14.90  50.28     75.47        84           0        6.64   \n",
       "\n",
       "    Country        Date             Hotel Name  \n",
       "51       AR  1589649758     Conquistador Hotel  \n",
       "75       LY  1589649764            بورتو بردية  \n",
       "101      BR  1589649770          Hotel Morotin  \n",
       "181      AO  1589649790  Pensão E Restaurantes  \n",
       "291      MG  1589649816          Hotel Vitasoa  "
      ]
     },
     "execution_count": 7,
     "metadata": {},
     "output_type": "execute_result"
    }
   ],
   "source": [
    "hotel_df.head()"
   ]
  },
  {
   "cell_type": "code",
   "execution_count": 8,
   "metadata": {},
   "outputs": [],
   "source": [
    "# NOTE: Do not change any of the code in this cell\n",
    "\n",
    "# Using the template add the hotel marks to the heatmap\n",
    "info_box_template = \"\"\"\n",
    "<dl>\n",
    "<dt>Name</dt><dd>{Hotel Name}</dd>\n",
    "<dt>City</dt><dd>{City}</dd>\n",
    "<dt>Country</dt><dd>{Country}</dd>\n",
    "</dl>\n",
    "\"\"\"\n",
    "# Store the DataFrame Row\n",
    "# NOTE: be sure to update with your DataFrame name\n",
    "hotel_info = [info_box_template.format(**row) for index, row in hotel_df.iterrows()]\n",
    "locations = hotel_df[[\"Lat\", \"Lng\"]]"
   ]
  },
  {
   "cell_type": "code",
   "execution_count": 10,
   "metadata": {},
   "outputs": [
    {
     "data": {
      "application/vnd.jupyter.widget-view+json": {
       "model_id": "47f2de4a61c44dbf80ff04854fc65a7b",
       "version_major": 2,
       "version_minor": 0
      },
      "text/plain": [
       "Figure(layout=FigureLayout(height='420px'))"
      ]
     },
     "metadata": {},
     "output_type": "display_data"
    }
   ],
   "source": [
    "# Add marker layer ontop of heat map\n",
    "hotelmarkers = gmaps.marker_layer(locations,info_box_content=hotel_info)\n",
    "\n",
    "fig.add_layer(hotelmarkers)\n",
    "\n",
    "# Display figure\n",
    "\n",
    "fig"
   ]
  },
  {
   "cell_type": "code",
   "execution_count": null,
   "metadata": {},
   "outputs": [],
   "source": [
    "\n"
   ]
  }
 ],
 "metadata": {
  "kernelspec": {
   "display_name": "Python 3",
   "language": "python",
   "name": "python3"
  },
  "language_info": {
   "codemirror_mode": {
    "name": "ipython",
    "version": 3
   },
   "file_extension": ".py",
   "mimetype": "text/x-python",
   "name": "python",
   "nbconvert_exporter": "python",
   "pygments_lexer": "ipython3",
   "version": "3.6.10"
  },
  "latex_envs": {
   "LaTeX_envs_menu_present": true,
   "autoclose": false,
   "autocomplete": true,
   "bibliofile": "biblio.bib",
   "cite_by": "apalike",
   "current_citInitial": 1,
   "eqLabelWithNumbers": true,
   "eqNumInitial": 1,
   "hotkeys": {
    "equation": "Ctrl-E",
    "itemize": "Ctrl-I"
   },
   "labels_anchors": false,
   "latex_user_defs": false,
   "report_style_numbering": false,
   "user_envs_cfg": false
  }
 },
 "nbformat": 4,
 "nbformat_minor": 2
}
